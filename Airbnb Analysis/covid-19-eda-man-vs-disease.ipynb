{
 "cells": [
  {
   "cell_type": "markdown",
   "metadata": {},
   "source": [
    "\n",
    "![](https://cdn.cnn.com/cnnnext/dam/assets/200513170740-coronavirus-questions-answered-illustration-super-169.jpg)\n",
    "([Image Source](https://edition.cnn.com/interactive/2020/health/coronavirus-questions-answers/))\n",
    "# Ackowlegement \n",
    "This Notebook would not have been possible without the fantastic dataset provided by [@josephassaker](https://www.kaggle.com/josephassaker). When I explained that I was using his dataset and would stand to benefit from a revised version, he was kind enough to promptly update his dataset (which previously contained entries upto 19-01-2021) to include data upto the current date. If you haven't already, I strongly encourage you to upvote his dataset [here](https://www.kaggle.com/josephassaker/covid19-global-dataset). \n",
    "\n",
    "\n",
    "# Introduction\n",
    "\n",
    "It has been over a full year since we started this difficult battle against Covid-19 and it has cost us dearly. These fast-spreading microscopic creatures that are too small to be even be seen with the naked eye have somehow shaken the entire world and changed life as we know it. \n",
    "\n",
    "People all over the world are racing against the clock to fight this pandemic. We, the bright minds of Kaggle can do our part by using our skills to generate powerful insight that can make the lives of those affected a little better. \n",
    "\n",
    "Every day, there's an abundance of data being made publicly available on Kaggle, each one containing different statistics surrounding the Covid-19 pandemic. The goal in this notebook, is to bring two such datasets together and generate a holistic view on how we, as a species have been fighting this virus. \n",
    "\n",
    "I will update it often to make sure it contains the most relevant information. Feel free to leave any ideas or links to other datasets and notebooks that you feel would benefit this notebook.\n",
    "\n",
    "If you like this notebook and the approach, an **upvote** would be massively encouraging! Cheers. \n"
   ]
  },
  {
   "cell_type": "markdown",
   "metadata": {},
   "source": [
    "## Technology Stack\n",
    "In this analysis, I used python as the primary programming language because of its rich palette of tools that make data analysis a cinch. Some of the python packages I used are:\n",
    "1. Plotly is an extremely versatile library of tools for generating interactive plots that are easy to interpret and customise\n",
    "2. Numpy is a popular library used for array manipulation and vector operations. It is used extensively across python projects that require scientific computing.\n",
    "3. Pandas is another library for data science that is just as popular as numpy. It provides easy to use data structures and functions to manipulate structured data.\n",
    "\n",
    "\n",
    "These tools are well documented and come with several examples that make it easy to start using them. You can check out the linked documentation pages for more information."
   ]
  },
  {
   "cell_type": "code",
   "execution_count": null,
   "metadata": {
    "_kg_hide-input": true,
    "_kg_hide-output": true
   },
   "outputs": [],
   "source": [
    "# imports \n",
    "import math\n",
    "import numpy as np \n",
    "import pandas as pd \n",
    "import plotly.express as ex\n",
    "import plotly.graph_objects as go\n",
    "import plotly.offline as pyo\n",
    "from datetime import datetime\n",
    "pyo.init_notebook_mode()"
   ]
  },
  {
   "cell_type": "code",
   "execution_count": null,
   "metadata": {
    "_kg_hide-input": true
   },
   "outputs": [],
   "source": [
    "# load data\n",
    "vacc_df = pd.read_csv(\"/kaggle/input/covid-world-vaccination-progress/country_vaccinations.csv\")\n",
    "summary_df = pd.read_csv(\"/kaggle/input/covid19-global-dataset/worldometer_coronavirus_summary_data.csv\")\n",
    "daily_df = pd.read_csv(\"/kaggle/input/covid19-global-dataset/worldometer_coronavirus_daily_data.csv\")"
   ]
  },
  {
   "cell_type": "markdown",
   "metadata": {},
   "source": [
    "# Data Cleaning\n",
    "\n",
    "The most important step to take before we get started geenrating any kind of information from all these data sources, it is first important to clean our data and make sure that the datasets are compatible with each other. Since most of the data is divided on a country-by-country basis, we must make sure that all the country names have the same formatting. \n",
    "\n",
    "For instance, \"United States of America\" may be written as \"USA\", \"United Kingdom\" as \"UK\" and so on. We will explore this problem and others in this section. We will prioritize only those countries for which vaccination data is available since most countries have either not yet started vaccinations or do not yet have sufficiently available public data."
   ]
  },
  {
   "cell_type": "markdown",
   "metadata": {},
   "source": [
    "## Standardize Country Names\n",
    "\n",
    "### Steps followed:\n",
    "- Identify the differences \n",
    "- Plan on how to unify them \n",
    "- Implement in code "
   ]
  },
  {
   "cell_type": "code",
   "execution_count": null,
   "metadata": {},
   "outputs": [],
   "source": [
    "# Identify the differences\n",
    "print(\"Countries in the Vaccination Data not in Summary Data\")\n",
    "print([x for x in vacc_df.country.unique() if x not in summary_df.country.unique()])"
   ]
  },
  {
   "cell_type": "markdown",
   "metadata": {},
   "source": [
    "Let us see if we can find their equivalent in the Summary Dataset "
   ]
  },
  {
   "cell_type": "code",
   "execution_count": null,
   "metadata": {},
   "outputs": [],
   "source": [
    "print(summary_df.country.unique().tolist())"
   ]
  },
  {
   "cell_type": "markdown",
   "metadata": {},
   "source": [
    "From the above list, using `Ctrl+F` to search, we quickly find some equivalents as :\n",
    "\n",
    "**Replace**\n",
    "- 'Czechia' == \"Czech Republic\"\n",
    "- 'Isle of Man' == \"Isle Of Man\" \n",
    "- 'United Kingdom' == \"UK\"\n",
    "- 'United States' == \"USA\"\n",
    "- 'Northern Cyprus' == \"Cyprus\"\n",
    "\n",
    "**Drop** \n",
    "- England \n",
    "- Wales \n",
    "- Scotland \n",
    "- Northern Ireland\n",
    "\n",
    "(since they are a part of the UK) "
   ]
  },
  {
   "cell_type": "code",
   "execution_count": null,
   "metadata": {
    "_kg_hide-input": false
   },
   "outputs": [],
   "source": [
    "# Implement the above\n",
    "vacc_df.country = vacc_df.country.replace().replace({\n",
    "    \"Czechia\": \"Czech Republic\", \n",
    "    \"United States\": \"USA\", \n",
    "    \"United Kingdom\": \"UK\", \n",
    "    \"Isle of Man\": \"Isle Of Man\",\n",
    "    \"Republic of Ireland\": \"Ireland\",\n",
    "    \"Northern Cyprus\" : \"Cyprus\"\n",
    "})\n",
    "\n",
    "# drop these 3 since they are included in UK \n",
    "vacc_df = vacc_df[vacc_df.country.apply(lambda x: x not in ['England', 'Scotland', 'Wales', 'Northern Ireland'])]"
   ]
  },
  {
   "cell_type": "code",
   "execution_count": null,
   "metadata": {},
   "outputs": [],
   "source": [
    "# function to easily agrregate columns\n",
    "def aggregate(df: pd.Series, agg_col: str) -> pd.DataFrame:\n",
    "    \n",
    "    data = df.groupby(\"country\")[agg_col].max()\n",
    "    data = pd.DataFrame(data)\n",
    "    \n",
    "    return data"
   ]
  },
  {
   "cell_type": "markdown",
   "metadata": {},
   "source": [
    "## Extend the Summary Data\n",
    "\n",
    "The summary dataset already contains a lot of aggregate data about the virus itself but no information surrounding the vaccinations. So we will use the Vaccination dataset to add this information as new columns. This will make it significantly more convenient to process and visualize later on.\n",
    "\n",
    "New Information:\n",
    "\n",
    "- Number of vaccine doses administered\n",
    "- Total number of unique people vaccinated \n",
    "- Total number of people fully vaccinated\n",
    "- Number of vaccine doses administered per hundred\n",
    "- Total number of unique people vaccinated per hundred\n",
    "- Total number of people fully vaccinated per hundred \n",
    "- Vaccine combinations in use for each country\n",
    "- Percentage of the total population vaccinated\n",
    "- Percentage of the tested that returned positive\n",
    "\n",
    "\n",
    "The numeric columns in the Vaccination dataset other than the ones marked \"daily\" are cumulative data. Hence the latest value will be the maximum among the column. For this reason, we will using the `groupby.max()` function as it works well with `NaN` values."
   ]
  },
  {
   "cell_type": "code",
   "execution_count": null,
   "metadata": {},
   "outputs": [],
   "source": [
    "# define the columns we want to summarize\n",
    "cols_to_summarize = ['people_vaccinated', \n",
    "                     'people_vaccinated_per_hundred', \n",
    "                     'people_fully_vaccinated', \n",
    "                     'people_fully_vaccinated_per_hundred', \n",
    "                     'total_vaccinations_per_hundred', \n",
    "                     'total_vaccinations']\n",
    "\n",
    "summary = summary_df.set_index(\"country\")\n",
    "vaccines = vacc_df[['country', 'vaccines']].drop_duplicates().set_index('country')\n",
    "summary = summary.join(vaccines)\n",
    "\n",
    "for col in cols_to_summarize:   \n",
    "    summary = summary.join(aggregate(vacc_df, col))\n",
    "\n",
    "summary['percentage_vaccinated'] = summary.total_vaccinations / summary.population * 100\n",
    "summary['tested_positive'] = summary.total_confirmed / summary.total_tests * 100"
   ]
  },
  {
   "cell_type": "code",
   "execution_count": null,
   "metadata": {},
   "outputs": [],
   "source": [
    "# Data used for this section\n",
    "summary.head(5)"
   ]
  },
  {
   "cell_type": "markdown",
   "metadata": {},
   "source": [
    "**Note**: We notice that not all countries have all summary information available. So we need to be careful about how we handle `NaN` values"
   ]
  },
  {
   "cell_type": "markdown",
   "metadata": {},
   "source": [
    "# Visualizations\n",
    "\n",
    "This section is the crux of the project, where we take the cleaned and processed data and turn them into intuitive graphs. Note that since Medium does not support interactive graphing, I have uploaded screenshots from my Kaggle Notebook. To get the full Plotly Experience, you can check out the notebook linked in the introduction."
   ]
  },
  {
   "cell_type": "code",
   "execution_count": null,
   "metadata": {
    "_kg_hide-input": true
   },
   "outputs": [],
   "source": [
    "# helper functions \n",
    "def get_multi_line_title(title:str, subtitle:str):\n",
    "    return f\"{title}<br><sub>{subtitle}</sub>\"\n",
    "\n",
    "def visualize_column(data: pd.DataFrame, xcolumn: str, ycolumn:str, title:str, colors:str, ylabel=\"Count\", n=None):\n",
    "    hovertemplate ='<br><b>%{x}</b>'+f'<br><b>{ylabel}: </b>'+'%{y}<br><extra></extra>'    \n",
    "    data = data.sort_values(ycolumn, ascending=False).dropna(subset=[ycolumn])        \n",
    "    \n",
    "    if n is not None: \n",
    "        data = data.iloc[:n]\n",
    "    else:\n",
    "        n = \"\"\n",
    "    fig = go.Figure(go.Bar(\n",
    "                    hoverinfo='skip',\n",
    "                     x=data[xcolumn], \n",
    "                     y=data[ycolumn], \n",
    "                     hovertemplate = hovertemplate,\n",
    "                     marker=dict(\n",
    "                         color = data[ycolumn],\n",
    "                         colorscale=colors,\n",
    "                        ),\n",
    "                    ),\n",
    "                )\n",
    "    \n",
    "    fig.update_layout(\n",
    "        title=title,\n",
    "        xaxis_title=f\"Top {n} {xcolumn.title()}\",\n",
    "        yaxis_title=ylabel,\n",
    "        plot_bgcolor='rgba(0,0,0,0)',\n",
    "        hovermode=\"x\"\n",
    "    )\n",
    "    \n",
    "    fig.show()"
   ]
  },
  {
   "cell_type": "markdown",
   "metadata": {},
   "source": [
    "## Visualizing Summaries\n",
    "\n",
    "Let’s kick things off by visualising the summaries we computed back in the Data Processing section. Since data is summaries by countries, the visualisations can get quite skewed when we sort the values. So for the sake of comprehension, we will only compare the top-20 countries in each section.\n"
   ]
  },
  {
   "cell_type": "code",
   "execution_count": null,
   "metadata": {
    "_kg_hide-input": false
   },
   "outputs": [],
   "source": [
    "title = get_multi_line_title(\"People Vaccinated\", \"Individuals who received the first dose of the vaccine\")\n",
    "visualize_column(summary.reset_index(), 'country', \"total_vaccinations\", title, \"Blugrn\", n=20 )"
   ]
  },
  {
   "cell_type": "markdown",
   "metadata": {},
   "source": [
    "#### Worst hit, but fastest recovering? \n",
    "We see that the USA and China are leading in terms of the total number of vaccinations administered. Note that this is an indicator of people who have received at least the first dose since the vaccination process generally consists of multiple doses administered over time."
   ]
  },
  {
   "cell_type": "code",
   "execution_count": null,
   "metadata": {
    "_kg_hide-input": false
   },
   "outputs": [],
   "source": [
    "title = get_multi_line_title(\"Percentage Vaccinated\", \"Percentage of the total population that have received the first dose\")\n",
    "visualize_column(summary.reset_index(), 'country', \"percentage_vaccinated\", title, \"Purp\", \"Percentage(%)\", n=20)"
   ]
  },
  {
   "cell_type": "code",
   "execution_count": null,
   "metadata": {
    "_kg_hide-input": false
   },
   "outputs": [],
   "source": [
    "title = get_multi_line_title(\"Tested Positive \", \"Fraction of  people that tested positive among those that were tested\")\n",
    "visualize_column(summary.reset_index(), 'country',\"tested_positive\", title, \"Reds\", n=20, ylabel='Percentage' )"
   ]
  },
  {
   "cell_type": "markdown",
   "metadata": {},
   "source": [
    "#### What do we understand? \n",
    "At first glance, it might seem that French Polynesia is suffering the worst since almost 70% of those tested for Covid-19 came back positive. However, we must consider the possibility that only those exhibiting severe symptoms were tested, in the first place. I will leave this investigation to the readers."
   ]
  },
  {
   "cell_type": "code",
   "execution_count": null,
   "metadata": {},
   "outputs": [],
   "source": [
    "data = summary.dropna(subset=['vaccines'])\n",
    "data = summary.groupby('vaccines')['total_vaccinations'].sum()\n",
    "data = pd.DataFrame(data).reset_index()\n",
    "\n",
    "title = get_multi_line_title(\"Vaccines In Use\", \"Popular Vaccine Combinations that are used around the globe\")\n",
    "visualize_column(data, 'vaccines',\"total_vaccinations\", title, \"RdBu\" )"
   ]
  },
  {
   "cell_type": "code",
   "execution_count": null,
   "metadata": {},
   "outputs": [],
   "source": [
    "data = summary.dropna(subset=['serious_or_critical'])\n",
    "data = data.reset_index()\n",
    "\n",
    "title = get_multi_line_title(\"Serious or Critical Cases\", \"Number of people who are currently critically ill due to Covid-19\")\n",
    "visualize_column(data, 'country',\"serious_or_critical\", title, \"turbid\", n=20)\n"
   ]
  },
  {
   "cell_type": "code",
   "execution_count": null,
   "metadata": {
    "_kg_hide-input": false
   },
   "outputs": [],
   "source": [
    "title = get_multi_line_title(\"Death Rates\", \"Percentage of the confired cases have died from Covid-19\")\n",
    "data = summary_df.copy()\n",
    "data['death_rate'] =  data['total_deaths']*100/data['total_confirmed']\n",
    "data = data.dropna(subset=['death_rate'])\n",
    "fig = ex.scatter_geo(data, locations=\"country\", color=\"continent\",\n",
    "                     locationmode='country names',\n",
    "                     hover_name=\"country\", size=\"death_rate\",\n",
    "                     projection=\"natural earth\")\n",
    "fig.update_layout(title=title, title_x=0.45)\n",
    "fig.show()"
   ]
  },
  {
   "cell_type": "markdown",
   "metadata": {},
   "source": [
    "#### A Quick Reminder!\n",
    "Above, is perhaps the scariest graph in my analysis and the one that is the largest cause for concern. These are the numbers that we are fighting to reduce. As we have heard from multiple sources online, these numbers mainly represent the old and those with pre-existing medical conditions fighting for their lives against this terrible virus."
   ]
  },
  {
   "cell_type": "markdown",
   "metadata": {},
   "source": [
    "## Visualizing Active Cases, Cured and Deaths\n",
    "\n",
    "Each country has been dealing with the pandemic differently, with some showing more timely response than others. There is not better way to quantify and compare how well a country has been handling the virus than by looking at the total number of confirmed cases and split it up in terms of:\n",
    "\n",
    "- **Currently Active** : Patients who are currently diagnosed with Covid-19 and are undergoing treatment\n",
    "- **Cured** : The number of people who contracted the virus ayt some point but were eventually cured \n",
    "- **Deaths** : Perhaps the most critical metric of all, the number of lives that have been lost due to the virus\n",
    "\n",
    "To keep all measurements on the same scale, we divide the values by the total populations of the respective countries"
   ]
  },
  {
   "cell_type": "code",
   "execution_count": null,
   "metadata": {
    "_kg_hide-input": true
   },
   "outputs": [],
   "source": [
    "title = get_multi_line_title(\"Percentage Statistics\", \"Active, Recovered and Deaths in terms of percentage of population\")\n",
    "\n",
    "data = summary.reset_index().dropna(subset=['active_cases', 'total_recovered', 'total_deaths','population'])\n",
    "data['active_percent'] = data['active_cases']/data['population'] * 100\n",
    "data['recovered_percent'] = data['total_recovered']/data['population'] * 100\n",
    "data['deaths_percent'] = data['total_deaths']/data['population'] * 100\n",
    "data['confirmed_percent'] = data['total_confirmed']/data['population'] * 100\n",
    "data = data.sort_values('confirmed_percent', ascending=False).drop_duplicates(subset=['country'])\n",
    "\n",
    "fig = go.Figure(data=[\n",
    "                go.Bar(\n",
    "                    name=\"Deaths\",\n",
    "                    x=data['country'], \n",
    "                    y=data['deaths_percent'],\n",
    "                    marker_color='crimson',\n",
    "                    marker=dict(line=dict(\n",
    "                                  width=0.1,\n",
    "                                  color='red'\n",
    "                                )\n",
    "                            )\n",
    "                ),\n",
    "                go.Bar(\n",
    "                    name=\"Active\",\n",
    "                    x=data['country'], \n",
    "                    y=data['active_percent'],\n",
    "                    marker_color='royalblue',\n",
    "                    marker=dict(\n",
    "                              line=dict(\n",
    "                                  width=0.1,\n",
    "                                  color='blue'\n",
    "                              )\n",
    "                        )\n",
    "                ),\n",
    "                go.Bar(\n",
    "                    name=\"Recovered\",\n",
    "                    x=data['country'], \n",
    "                    y=data['recovered_percent'],\n",
    "                    marker_color='lightseagreen',\n",
    "                    marker=dict(\n",
    "                              line=dict(\n",
    "                                  width=0.1,\n",
    "                                  color='green'\n",
    "                              )\n",
    "                        )\n",
    "                )\n",
    "\n",
    "            ])\n",
    "\n",
    "fig.update_layout(\n",
    "        title=title,\n",
    "        xaxis_title=\"Country\",\n",
    "        yaxis_title=\"Percentages(%)\",\n",
    "        plot_bgcolor='rgba(0,0,0,0)',\n",
    "        hovermode=\"x\",\n",
    "        barmode='stack'\n",
    "    )\n"
   ]
  },
  {
   "cell_type": "markdown",
   "metadata": {},
   "source": [
    "Let us now look at the same data as above but from a slightly different persepctive. "
   ]
  },
  {
   "cell_type": "code",
   "execution_count": null,
   "metadata": {
    "_kg_hide-input": true
   },
   "outputs": [],
   "source": [
    "# choropleth maps for easier visualization\n",
    "title = get_multi_line_title(\"Total Confirmed Cases\", \"Active, Recovered and Deaths in terms of total counts\")\n",
    "\n",
    "fig = ex.choropleth(data, locations=\"country\", \n",
    "                    locationmode='country names',\n",
    "                    color=\"total_confirmed\", \n",
    "                    hover_name=\"country\", \n",
    "                    hover_data=['total_deaths', 'active_cases', 'total_recovered'],\n",
    "                    title='Global Vaccinations over time',\n",
    "                    color_continuous_scale=\"Sunset\"\n",
    "                   )\n",
    "\n",
    "fig.update_layout(title=title, \n",
    "#                   coloraxis_showscale=False, \n",
    "                  title_x=0.5)\n",
    "fig.show()"
   ]
  },
  {
   "cell_type": "markdown",
   "metadata": {},
   "source": [
    "## Vaccine Preference by Country\n",
    "\n",
    "Different countries are using different vaccines to fight against covid-19. Let us try to visualize this using the data we prepared earlier."
   ]
  },
  {
   "cell_type": "code",
   "execution_count": null,
   "metadata": {
    "_kg_hide-input": true
   },
   "outputs": [],
   "source": [
    "# plot popular vaccines around the world\n",
    "title = get_multi_line_title(\"Popular Vaccines\", \"Vaccines being admisitered around the world\")\n",
    "data = summary.reset_index().dropna(subset=['vaccines'])\n",
    "fig = ex.choropleth(data, locations=\"country\", \n",
    "                    locationmode='country names',\n",
    "                    color=\"vaccines\", \n",
    "                    hover_name=\"country\", \n",
    "                   )\n",
    "\n",
    "\n",
    "fig.update_layout(title=title, \n",
    "                  title_x=0.5,\n",
    "    legend_orientation = 'h'\n",
    ")\n",
    "fig.show()"
   ]
  },
  {
   "cell_type": "markdown",
   "metadata": {},
   "source": [
    "## Confirmed Cases by Continent \n",
    "\n",
    "Let's take a look at the total cases by continent and see which ones have been hit the worst. "
   ]
  },
  {
   "cell_type": "code",
   "execution_count": null,
   "metadata": {
    "_kg_hide-input": true
   },
   "outputs": [],
   "source": [
    "title = get_multi_line_title(\"Covid-19 Continents\", \"Visualizing the total number of confirmed cases by Continent\")\n",
    "\n",
    "continent_confirmed = summary_df.groupby(['continent'])['total_confirmed'].sum()\n",
    "continent_active = summary_df.groupby(['continent'])['active_cases'].sum()\n",
    "continent_deaths = summary_df.groupby(['continent'])['total_deaths'].sum()\n",
    "continent_recovered = summary_df.groupby(['continent'])['total_recovered'].sum()\n",
    "\n",
    "data = summary_df.copy()\n",
    "data['Total Confirmed'] = data.continent.apply(lambda x: continent_confirmed[x])\n",
    "data['Active Cases'] = data.continent.apply(lambda x: continent_active[x])\n",
    "data['Total Deaths'] = data.continent.apply(lambda x: continent_deaths[x])\n",
    "data['Total Recovered'] = data.continent.apply(lambda x: continent_recovered[x])\n",
    "\n",
    "\n",
    "fig = ex.choropleth(data, locations=\"country\", \n",
    "                    locationmode='country names',\n",
    "                    color=\"Total Confirmed\", \n",
    "                    hover_name=\"continent\", \n",
    "                    hover_data=['Active Cases', 'Total Confirmed','Total Deaths', 'Total Recovered' ],\n",
    "                    title=title,\n",
    "                    color_continuous_scale=\"reds\"\n",
    "                   )\n",
    "\n",
    "\n",
    "fig.update_layout(title=title, \n",
    "                  title_x=0.5)\n",
    "\n",
    "fig.show();"
   ]
  },
  {
   "cell_type": "markdown",
   "metadata": {},
   "source": [
    "## Vaccinations Over Time\n",
    "\n",
    "Now we come to my favourite plot of this notebook: Visualizing how the vaccinations have been progressing around the world. The most exciting part is that for each passing day that I run this notebook, the graph keeps getting better an better, indidicating new countries that have started vaccinations, or how previously vaccinating countries have been accelerating their progress. \n",
    "\n",
    "However, We first need to clean our data a little further in order to generate this data: \n",
    "\n",
    "- For each country that has started vaccinations, **ensure that there is atleast 1 entry for each date** since the earliest date. This is because we want the change in color to be gradual for all countries. Otherwise, the countries will suddenly pop in with dark colors at the time of their first entry. \n",
    "\n",
    "- **Scale the values to a log scale**. This again, ensures a more pleasant shift in colors that is a lot more interpretable. Otheriwse, the gaps between the counts for countries will be too large to make any sense of"
   ]
  },
  {
   "cell_type": "code",
   "execution_count": null,
   "metadata": {
    "_kg_hide-input": true
   },
   "outputs": [],
   "source": [
    "# unique dates \n",
    "dates = vacc_df.date.unique().tolist()\n",
    "dates.extend(['2020-12-12', '2020-12-13']) #add 2 dates to improve animation \n",
    "\n",
    "# unique countries \n",
    "countries = vacc_df.country.unique().tolist()\n",
    "\n",
    "# for easy processing \n",
    "short = vacc_df[['date', 'country', 'total_vaccinations']]\n",
    "\n",
    "# values of unqiue (date, country) already in short \n",
    "# i.e we want to make sure we have some data for each, even if it is 0 \n",
    "keys= list(zip(short.date.tolist(), short.country.tolist()))\n",
    "for date in dates:\n",
    "    for country in countries:\n",
    "        idx = (date, country)\n",
    "        if idx not in keys:\n",
    "            if date == min(dates):\n",
    "                # this means there's no entry for {country} on the earliest date \n",
    "                short = short.append({\n",
    "                    \"date\": date, \n",
    "                    \"country\": country, \n",
    "                    \"total_vaccinations\": 0\n",
    "                }, ignore_index=True)\n",
    "            else:\n",
    "                # entry for {country} is missing on a date other than the earliest\n",
    "                short = short.append({\n",
    "                    \"date\": date, \n",
    "                    \"country\": country, \n",
    "                    \"total_vaccinations\": pd.NA\n",
    "                }, ignore_index=True)\n",
    "                \n",
    "#fill missing values with previous day values (this is OK since it is cumulative)\n",
    "short = short.sort_values(['country', 'date'])\n",
    "\n",
    "short.total_vaccinations = short.total_vaccinations.fillna(method='ffill')\n",
    "\n",
    "# scale the number by log to make the color transitions smoother\n",
    "vaccines = short.sort_values('date')\n",
    "vaccines['log_scale'] = vaccines['total_vaccinations'].apply(lambda x : math.log2(x+1))\n",
    "\n",
    "fig = ex.choropleth(vaccines, locations=\"country\", \n",
    "                    locationmode='country names',\n",
    "                    color=\"log_scale\", \n",
    "                    hover_name=\"country\", \n",
    "                    hover_data=['log_scale', \"total_vaccinations\"],\n",
    "                    animation_frame=\"date\",\n",
    "                    color_continuous_scale=\"BuGn\",\n",
    "                   )\n",
    "\n",
    "title = get_multi_line_title(\"Vaccination Progress\", \"Number of Vaccines Administered Around the World\")\n",
    "fig.update_layout(coloraxis={\"cmax\":25,\"cmin\":0})\n",
    "fig.update_layout(title=title, title_x=0.5, coloraxis_showscale=False)\n",
    "\n",
    "fig.show()"
   ]
  },
  {
   "cell_type": "markdown",
   "metadata": {},
   "source": [
    "## Rate of Vaccination\n",
    "\n",
    "While the above animation helps us to get an overview of hour different countries have been doing with respect to each other, we will also visualize the top-10 countries by total vaccinations. This is quite easy to plot, since we will use the same data used for above plot"
   ]
  },
  {
   "cell_type": "code",
   "execution_count": null,
   "metadata": {
    "_kg_hide-input": true
   },
   "outputs": [],
   "source": [
    "# choose only top-10 \n",
    "countries = short.groupby('country')['total_vaccinations'].max().sort_values(ascending=False)[:10].index.tolist()\n",
    "\n",
    "title = get_multi_line_title(\"Vaccination Progress\", \"Rate of vaccinations for the top-10 vaccinated countries\")\n",
    "\n",
    "line_plots = []\n",
    "for c in countries:\n",
    "    vacc_data = short[short.country == c]\n",
    "    line_plots.append(\n",
    "        go.Scatter(\n",
    "            name = c,\n",
    "            x = vacc_data.date,\n",
    "            mode='lines+markers',\n",
    "            y=vacc_data['total_vaccinations'],\n",
    "        )\n",
    "    )\n",
    "    \n",
    "fig = go.Figure(line_plots)\n",
    "fig.update_layout(\n",
    "    title =title,\n",
    "    yaxis_title=\"Count\",\n",
    "    hovermode='x',\n",
    "    legend_orientation = 'h',\n",
    "\n",
    ")\n",
    "\n",
    "\n",
    "fig.show()"
   ]
  },
  {
   "cell_type": "markdown",
   "metadata": {},
   "source": [
    "## The Race Against Covid!\n",
    "\n",
    "We have to datasets that record daily statistics about Covid-19 and vaccinations respectively. We can put this data together to compare the spread of the virus against the \"spread\" of the vaccine! Ideally, we would want to see a downward trend in the new cases alongside an upward trend in the number of vaccinations administered globally. \n",
    "\n",
    "In order to do this, we have to first deal with the following problems: \n",
    "\n",
    "- We only have vaccination data starting from 13-12-2020 : So we will only consider the disease statistics from this date as well. \n",
    "- The dates in the the two datasets have different formats : So we will use the `datetime` library to standardize it \n",
    "- Only a few countries have started the vaccination. So we will consider only the new cases in these countries. "
   ]
  },
  {
   "cell_type": "code",
   "execution_count": null,
   "metadata": {
    "_kg_hide-input": true
   },
   "outputs": [],
   "source": [
    "# copy the datasets\n",
    "vaccs = vacc_df.copy()\n",
    "daily = daily_df.copy()\n",
    "\n",
    "# standardise the dates \n",
    "vaccs.date =vaccs.date.apply(lambda x: datetime.strptime(x, \"%Y-%m-%d\"))\n",
    "daily.date =daily.date.apply(lambda x: datetime.strptime(x, \"%Y-%m-%d\"))\n",
    "\n",
    "# use only common countries and dates \n",
    "countries = vaccs.dropna(subset=['daily_vaccinations'])['country'].unique()\n",
    "dates = vaccs.dropna(subset=['daily_vaccinations'])['date'].unique()\n",
    "country_mask = daily.country.apply(lambda x: x in countries)\n",
    "date_mask = daily.date.apply(lambda x: x in dates)\n",
    "\n",
    "# generate the visualization data \n",
    "columns_to_sum = ['daily_new_cases', 'cumulative_total_cases', 'cumulative_total_deaths', 'active_cases']\n",
    "daily_cases = daily[country_mask & date_mask].groupby('date')[columns_to_sum].sum()\n",
    "daily_vaccs = vaccs.groupby('date')[[ 'daily_vaccinations']].sum()\n",
    "\n",
    "# make it a dataframe for convenience  \n",
    "data = pd.DataFrame(daily_cases).join(pd.DataFrame(daily_vaccs))\n",
    "\n",
    "# bring back the vaccine data we prepared in the previous section \n",
    "cumulative_vaccines = pd.DataFrame(vaccines.groupby('date')['total_vaccinations'].sum())\n",
    "data = data.join(cumulative_vaccines).reset_index()"
   ]
  },
  {
   "cell_type": "code",
   "execution_count": null,
   "metadata": {},
   "outputs": [],
   "source": [
    "# Data Format used for this section\n",
    "data.head()"
   ]
  },
  {
   "cell_type": "code",
   "execution_count": null,
   "metadata": {
    "_kg_hide-input": true
   },
   "outputs": [],
   "source": [
    "title = get_multi_line_title(\"Vaccine vs Virus\", \"Comparing the total number of daily new cases and daily vaccinations globally\")\n",
    "fig = go.Figure(data=[\n",
    "                go.Bar(\n",
    "                    name=\"New Cases\",\n",
    "                    x=data['date'], \n",
    "                    y=data['daily_new_cases'],\n",
    "                    marker_color=\"crimson\",\n",
    "                ),\n",
    "                go.Bar(\n",
    "                    name=\"Vaccinated\",\n",
    "                    x=data['date'], \n",
    "                    y=data['daily_vaccinations'],\n",
    "                    marker_color=\"lightseagreen\"\n",
    "                ),\n",
    "\n",
    "            ])\n",
    "\n",
    "fig.update_layout(\n",
    "        title=title,\n",
    "        xaxis_title=\"Date\",\n",
    "        yaxis_title=\"Count\",\n",
    "        plot_bgcolor='rgba(0,0,0,0)',\n",
    "        barmode='stack',\n",
    "        hovermode=\"x\"\n",
    "    )\n",
    "\n",
    "fig.show()"
   ]
  },
  {
   "cell_type": "markdown",
   "metadata": {},
   "source": [
    "#### What do we understand from this? \n",
    "Very interesting! We clearly see that both the vaccinations and the new cases seem to follow a common \"wave-like\" trend. If we look carefully, we see that the peaks almost always fall on Thursdays! Maybe this is just in line with the way most people have their schedules planned out. \n",
    "\n",
    "A ray of hope! We also see that the number of vaccines that are being administered each day are skyrocketing and we are well into the millions! Ideally, we expect that in the coming dates, we will see the daily new cases (red) gradually decrease and eventually disappear, as sufficiently enough people have been vaccinated as to completley halt the transmission of the virus!"
   ]
  },
  {
   "cell_type": "code",
   "execution_count": null,
   "metadata": {
    "_kg_hide-input": true
   },
   "outputs": [],
   "source": [
    "title = get_multi_line_title(\"The Race Against Covid\", \"Visualizing Cumulative Statistics of Disease vs Vaccine\")\n",
    "\n",
    "fig = go.Figure(data=[\n",
    "                go.Scatter(\n",
    "                    mode=\"lines+markers\",\n",
    "                    name=\"Total Deaths\",\n",
    "                    x=data['date'], \n",
    "                    y=data['cumulative_total_deaths'],\n",
    "                    marker_color=\"crimson\",\n",
    "                ),\n",
    "                go.Scatter(\n",
    "                    mode=\"lines+markers\",\n",
    "                    name=\"Total Cases\",\n",
    "                    x=data['date'], \n",
    "                    y=data['cumulative_total_cases'],\n",
    "                    marker_color=\"royalblue\"\n",
    "                ),\n",
    "    \n",
    "                go.Scatter(\n",
    "                    mode=\"lines+markers\",\n",
    "                    name=\"Total Vaccinated\",\n",
    "                    x=data['date'], \n",
    "                    y=data['total_vaccinations'],\n",
    "                    marker_color=\"lightseagreen\"\n",
    "                ),\n",
    "            ])\n",
    "\n",
    "fig.update_layout(\n",
    "        title = title,\n",
    "        xaxis_title=\"\",\n",
    "        yaxis_title=\"Count\",\n",
    "        hovermode=\"x\",\n",
    "    legend_orientation = 'h'\n",
    ")\n",
    "fig.show()\n",
    "\n"
   ]
  },
  {
   "cell_type": "markdown",
   "metadata": {},
   "source": [
    "#### What do expect? \n",
    "As more and more vaccines are made available to people around the world, we want the total number of vaccinated (green) to cross and far supass the total number of cases tested positive (blue). We hope that someday soon, the blue will be to the green what the red is to the blue. That make sense? "
   ]
  },
  {
   "cell_type": "code",
   "execution_count": null,
   "metadata": {
    "_kg_hide-input": true
   },
   "outputs": [],
   "source": [
    "title = get_multi_line_title(\"Vaccine Breakdown\", \"Cumulative totals of each vaccine administered over time\")\n",
    "vacc_plot = pd.DataFrame(vacc_df.groupby(['vaccines','date'])['daily_vaccinations'].sum()).reset_index()\n",
    "dates = vacc_plot.date.unique().tolist() \n",
    "vaccines = vacc_plot.vaccines.unique().tolist()\n",
    "vacc_plot = vacc_plot.set_index(['date', 'vaccines'])\n",
    "\n",
    "data = []\n",
    "for date in dates:\n",
    "    for vac in vaccines:\n",
    "        if (date, vac) not in vacc_plot.index:\n",
    "            value = pd.NA\n",
    "            if date == (min(dates)):\n",
    "                value = 0\n",
    "            data.append([date, vac, value])  \n",
    "        else:\n",
    "            data.append([date, vac, vacc_plot.loc[(date, vac)]['daily_vaccinations']])\n",
    "            \n",
    "data = pd.DataFrame(data, columns = ['date', 'vaccine', 'count'])\n",
    "data = data.sort_values(['vaccine', 'date'])\n",
    "data['count'] = data['count'].fillna(method='ffill')\n",
    "data = data[data['date'] != max(dates)]\n",
    "\n",
    "line_plots = []\n",
    "for v in vaccines:\n",
    "    vacc_data = data[data.vaccine == v]\n",
    "    line_plots.append(\n",
    "        go.Scatter(\n",
    "            name = v,\n",
    "            x = vacc_data.date,\n",
    "            mode='lines+markers',\n",
    "            y=vacc_data['count'],\n",
    "        )\n",
    "    )\n",
    "    \n",
    "fig = go.Figure(line_plots)\n",
    "fig.update_layout(\n",
    "    title =title,\n",
    "#     title = title,\n",
    "    xaxis_title=\"Date\",\n",
    "    yaxis_title=\"Count\",\n",
    "    hovermode='x',\n",
    "    legend_orientation = 'h'\n",
    ")\n",
    "\n",
    "\n",
    "fig.show()"
   ]
  },
  {
   "cell_type": "markdown",
   "metadata": {},
   "source": [
    "#### What do we understand from this? \n",
    "\n",
    "We see that so far, the Pfizer Vaccine and BioNTech have been making the fastest growth, most likely since this is the one that is prominently being adminstered in the USA which as we saw, is leading in terms of daily vaccinations. We also see rapid growth for CNBG, Sinovac, the prominent combination from China. We hope that very soon, as vaccinations become more easily accessible and affordable, all line graphs see an upward trend, matching that of USA and China. "
   ]
  },
  {
   "cell_type": "markdown",
   "metadata": {},
   "source": [
    "\n",
    "\n",
    "# Conclusion \n",
    "\n",
    "The above graphs shows how slowly but surely, the vaccines are being administered in increasingly large numbers each day. If we look carefully, we can also identify a slight downward trend in the number of new cases each day, as the vaccinations progress. Humanity is on its way to victory!\n",
    "\n",
    "COVID-19 has taken a heavy toll on mankind. We have lost far too many people and suffered too much for too long. Now is the time to fight back. Let 2021 be the year we reclaim what 2020 took from us. Regardless of what people might say, always wear a mask when out in public and maintain social distancing. DO NOT give in hearsay! Only when all of the graphs plotted inthe innumerable notebooks posted by the talented people on Kaggle point heavily in our favour, having dwarfed the damage this pandemic has already done, will be be able to call it a victory. \n",
    "\n",
    "## TOGETHER, WE CAN!"
   ]
  },
  {
   "cell_type": "markdown",
   "metadata": {},
   "source": [
    "# Summary\n",
    "\n",
    "Work Completed as of 05-02-2021: \n",
    "\n",
    "- **Data Cleaning** : Preprocessing and standardization.\n",
    "- **Data Summarization** : Combine the daily vaccine information with the existing virus summary.\n",
    "- **Summary Visualizations** : Generate attractive bar plots for various summaries.\n",
    "- **Global Statistics Visualization** : Compare the daily new cases, active cases and deaths. \n",
    "- **Vaccine Preferences** : Visualize the vaccine combinations in use around the globe.\n",
    "- **Covid-19 by Continents** : Visualize the total confirmed cases by continents.\n",
    "- **Vaccination Progression** : Visualize clearly how the vaccination have been progressing across the globe. \n",
    "- **Rate of Vaccination by Country** : Visualise how each of the top-10 countries have been administering the vaccine\n",
    "- **Vaccine vs Virus** : Comparing the global vaccination effort against the spread of the virus.\n",
    "- **The Race Against Covid** : Comparing the cumulative numbers for the virus and the vaccine.\n",
    "- **Vaccine Breakdown** : Visualizing how each vaccine has been administered over time.\n",
    "\n",
    "Thanks for taking the time to read this notebook. If you liked it, an **UPVOTE** is massively encouraging! \n",
    "I will try to keep this notebook updated and add in more visualizations in the future so be sure to check back soon!"
   ]
  },
  {
   "cell_type": "code",
   "execution_count": null,
   "metadata": {},
   "outputs": [],
   "source": []
  }
 ],
 "metadata": {
  "kernelspec": {
   "display_name": "Python 3",
   "language": "python",
   "name": "python3"
  },
  "language_info": {
   "codemirror_mode": {
    "name": "ipython",
    "version": 3
   },
   "file_extension": ".py",
   "mimetype": "text/x-python",
   "name": "python",
   "nbconvert_exporter": "python",
   "pygments_lexer": "ipython3",
   "version": "3.8.3"
  }
 },
 "nbformat": 4,
 "nbformat_minor": 4
}
